{
 "cells": [
  {
   "cell_type": "code",
   "execution_count": 3,
   "id": "0b71690b",
   "metadata": {},
   "outputs": [
    {
     "name": "stdout",
     "output_type": "stream",
     "text": [
      "enter the numbe1 :5\n",
      "eneter thr number2 :1\n",
      "5\n",
      "5.0\n"
     ]
    }
   ],
   "source": [
    " # 1.Write a program to accept two numbers from the user and calculate multiplication, division\n",
    "a=int(input(\"enter the numbe1 :\"))\n",
    "b=int(input(\"eneter the number2 :\"))\n",
    "print(a*b)\n",
    "print(a/b)"
   ]
  },
  {
   "cell_type": "code",
   "execution_count": 1,
   "id": "535fef6c",
   "metadata": {},
   "outputs": [
    {
     "name": "stdout",
     "output_type": "stream",
     "text": [
      "give the charecters : abcdefghijklmnopqrstuvwxyz\n"
     ]
    },
    {
     "data": {
      "text/plain": [
       "'acegikmoqsuwy'"
      ]
     },
     "execution_count": 1,
     "metadata": {},
     "output_type": "execute_result"
    }
   ],
   "source": [
    "#  2.Write a python program to print the characters from a string that are present at an even index\n",
    "a=input(\"give the charecters : \")   \n",
    "a[::2]"
   ]
  },
  {
   "cell_type": "code",
   "execution_count": 2,
   "id": "7c2326e9",
   "metadata": {},
   "outputs": [
    {
     "name": "stdout",
     "output_type": "stream",
     "text": [
      "give the charecters : abcdefghijklmnopqrstuvwxyz\n"
     ]
    },
    {
     "data": {
      "text/plain": [
       "'bdfhjlnprtvxz'"
      ]
     },
     "execution_count": 2,
     "metadata": {},
     "output_type": "execute_result"
    }
   ],
   "source": [
    "# 3.Write a python program to print the characters from a string that are present at an odd index\n",
    "a=input(\"give the charecters : \")     # we also do by using if and for loop i am doing it for odd index\n",
    "a[1::2]"
   ]
  },
  {
   "cell_type": "code",
   "execution_count": 4,
   "id": "3c67a782",
   "metadata": {},
   "outputs": [
    {
     "name": "stdout",
     "output_type": "stream",
     "text": [
      "enter the numbe1 :5\n",
      "eneter the number2 :4\n",
      "difference of two numbers is : 1\n"
     ]
    }
   ],
   "source": [
    "# 4) Write a python program which will print the sum of the two numbers if the two numbers are even or it will print the difference of two numbers\n",
    "a=int(input(\"enter the numbe1 :\"))\n",
    "b=int(input(\"eneter the number2 :\"))\n",
    "if a%2==0 and b%2==0:\n",
    "    print(\"sum of two numbers is :\",a+b)\n",
    "else:\n",
    "    print(\"difference of two numbers is :\",a-b)\n",
    "\n"
   ]
  },
  {
   "cell_type": "code",
   "execution_count": 18,
   "id": "ced58be0",
   "metadata": {},
   "outputs": [
    {
     "name": "stdout",
     "output_type": "stream",
     "text": [
      "eneter the sequence of charectersbhanu\n",
      "BAUhn\n"
     ]
    }
   ],
   "source": [
    "#5) Write a python program to convert all even indexed alphabets to upper and odd indexed char\n",
    "x=input(\"eneter the sequence of charecters\")\n",
    "y=\"\"\n",
    "z=\"\"\n",
    "for i in range(0,len(x)):\n",
    "    if i%2==0:\n",
    "        y=y+x[i].upper()\n",
    "    else:\n",
    "        z=z+x[i]\n",
    "print(y+z)\n",
    "     \n",
    "    \n",
    "        \n"
   ]
  },
  {
   "cell_type": "code",
   "execution_count": 21,
   "id": "969c284e",
   "metadata": {},
   "outputs": [
    {
     "name": "stdout",
     "output_type": "stream",
     "text": [
      " enter a number to check :10\n",
      "True\n"
     ]
    }
   ],
   "source": [
    "#6) Write a python program which will print True if the input number is divisible by 5 or else False\n",
    "x=int(input(\" enter a number to check :\"))\n",
    "if x%5==0:\n",
    "    print(\"True\")\n",
    "else:\n",
    "    print(\"False\")\n"
   ]
  },
  {
   "cell_type": "code",
   "execution_count": 24,
   "id": "ee7655b7",
   "metadata": {},
   "outputs": [
    {
     "name": "stdout",
     "output_type": "stream",
     "text": [
      "enter the numbe1 :100\n",
      "eneter the number2 :4660\n",
      "466000\n"
     ]
    }
   ],
   "source": [
    "#7) Given two integer numbers return their product only if the product is greater than 1000, else return their sum\n",
    "a=int(input(\"enter the numbe1 :\"))\n",
    "b=int(input(\"eneter the number2 :\"))\n",
    "c=a*b\n",
    "if c>1000:\n",
    "    print(c)\n",
    "else:\n",
    "    print(a+b)"
   ]
  },
  {
   "cell_type": "code",
   "execution_count": 46,
   "id": "9147a463",
   "metadata": {},
   "outputs": [
    {
     "name": "stdout",
     "output_type": "stream",
     "text": [
      "enter the numbe1 :pytho\n",
      "eneter the number2 :javas\n"
     ]
    }
   ],
   "source": [
    "# 8) Given two strings x, y writes a program to return a new string made of x and y’s first, middle, and last characters\n",
    "#Example:\n",
    "#Input\n",
    "#X=” pytho”\n",
    "#Y=” javas”\n",
    "#Output\n",
    "#” pjtvos”\n",
    "a=input(\"enter the numbe1 :\")\n",
    "b=input(\"eneter the number2 :\")\n",
    "while True:\n",
    "    h=a[0]+b[0]+a[len(a)//2]+b[(len(b)//2)]+a[-1]+b[-1]\n",
    "    break;"
   ]
  },
  {
   "cell_type": "code",
   "execution_count": 47,
   "id": "8e9456d5",
   "metadata": {},
   "outputs": [
    {
     "data": {
      "text/plain": [
       "'pjtvos'"
      ]
     },
     "execution_count": 47,
     "metadata": {},
     "output_type": "execute_result"
    }
   ],
   "source": [
    "h\n"
   ]
  },
  {
   "cell_type": "code",
   "execution_count": 67,
   "id": "7e0d14bd",
   "metadata": {},
   "outputs": [
    {
     "name": "stdout",
     "output_type": "stream",
     "text": [
      "enter the names :bhanu prakash pujala\n",
      "name1 : bhanu\n",
      "name2 : prakash\n",
      "name3 : pujala\n"
     ]
    }
   ],
   "source": [
    "#9) Write a python program to take three names as input from a user in the single input () function call\n",
    "#Example:\n",
    "#Input:\n",
    "#Enter three names: - “person1 person2 person3”\n",
    "#Output:\n",
    "#Name1: - “person1”\n",
    "#Name2: - “person2”\n",
    "#Name3: - “person3”\n",
    "a=input(\"enter the names :\")\n",
    "b=a.split()\n",
    "for i in b:\n",
    "    print(\"name1 :\",b[0])\n",
    "    print(\"name2 :\",b[1])\n",
    "    print(\"name3 :\",b[2])\n",
    "    break;\n",
    "\n",
    "\n"
   ]
  },
  {
   "cell_type": "code",
   "execution_count": 6,
   "id": "69a98aaf",
   "metadata": {},
   "outputs": [
    {
     "name": "stdout",
     "output_type": "stream",
     "text": [
      "Type string : malayalam\n",
      "malayala@\n"
     ]
    }
   ],
   "source": [
    "#10) Write a Python program to get a string from a given string where all occurrences of its first char have been\n",
    "#changed to '@', except the first char itself.\n",
    "#Example:\n",
    "#Input:\n",
    "#'malayalam’\n",
    "#Output:\n",
    "#'malayala@'\n",
    "#Input:                                                              \n",
    "#' abcabab'\n",
    "#Output:\n",
    "#‘abc@b@b’\n",
    "s = input(\"Type string : \")\n",
    "char = s[0]\n",
    "for i in s:\n",
    "    s = s.replace(s[0],'@')\n",
    "    s = char + s[1:]\n",
    "print(s)"
   ]
  },
  {
   "cell_type": "code",
   "execution_count": 24,
   "id": "262e8008",
   "metadata": {},
   "outputs": [
    {
     "name": "stdout",
     "output_type": "stream",
     "text": [
      "Enter any string bhanu\n",
      "['bhanuing']\n"
     ]
    }
   ],
   "source": [
    "#11) Write a Python program to add 'ing' at the end of a given string (string length should be equal to or more than 3). If\n",
    "#the given string already ends with 'ing' then add 'ly' instead.\n",
    "#If the string length of the given string is less than 3, leave it unchanged\n",
    "#Example:\n",
    "#Input:\n",
    "#'sing’\n",
    "#Output:\n",
    "#'singing'\n",
    "#Input:\n",
    "#' playing'\n",
    "#Output:\n",
    "#‘playly’\n",
    "#Input:\n",
    "#' on'\n",
    "#Output:\n",
    "#‘on’\n",
    "var3= input(\"Enter any string \")\n",
    "var4=[]\n",
    "if len(var3)>=3 and var3.endswith(\"ing\"):\n",
    "    var4=var3.replace(\"ing\",\"ly\")\n",
    "    print(var4)\n",
    "elif len(var3)>=3:\n",
    "    var3=var4.append(var3+\"ing\")\n",
    "    print(var4)\n",
    "elif len(var3)<3:\n",
    "    var4.append(var3)\n",
    "    print(var4)"
   ]
  },
  {
   "cell_type": "code",
   "execution_count": 103,
   "id": "bdcd137e",
   "metadata": {},
   "outputs": [
    {
     "name": "stdout",
     "output_type": "stream",
     "text": [
      "enter the numbe1 :10\n",
      "eneter the number2 :4\n",
      "True\n"
     ]
    }
   ],
   "source": [
    "#12) Write a python program that accepts two inputs num1 and num2 print True if one of them is 10 or if their sum is 10\n",
    "#otherwise print False\n",
    "a=int(input(\"enter the numbe1 :\"))\n",
    "b=int(input(\"eneter the number2 :\"))\n",
    "c=a+b\n",
    "if a>=10 or b>=10 or c==10:\n",
    "    print(\"True\")\n",
    "else:\n",
    "    print(\"False\")"
   ]
  },
  {
   "cell_type": "code",
   "execution_count": 107,
   "id": "4710086d",
   "metadata": {},
   "outputs": [
    {
     "name": "stdout",
     "output_type": "stream",
     "text": [
      "enter the numbe1 :5\n",
      "eneter the number2 :5\n",
      "eneter the number3 :30\n",
      "True\n"
     ]
    }
   ],
   "source": [
    "#13) Write a python program that accepts three inputs x, y and z print True if x*y>z otherwise False\n",
    "a=int(input(\"enter the numbe1 :\"))\n",
    "b=int(input(\"eneter the number2 :\"))\n",
    "c=int(input(\"eneter the number3 :\"))\n",
    "d=a*b\n",
    "if c>d:\n",
    "    print(\"True\")\n",
    "else:\n",
    "    print(\"False\")"
   ]
  },
  {
   "cell_type": "code",
   "execution_count": 111,
   "id": "546f7065",
   "metadata": {},
   "outputs": [
    {
     "name": "stdout",
     "output_type": "stream",
     "text": [
      "enter the numbe1 :bhanu\n",
      "eneter the number2 :12345\n",
      "True\n"
     ]
    }
   ],
   "source": [
    "#14) Write a python program that accepts two strings inputs return True depending on whether the total number of\n",
    "#characters in the first string is equal to the total number of characters in the second string\n",
    "a=list(input(\"enter the numbe1 :\"))\n",
    "b=list(input(\"eneter the number2 :\"))\n",
    "if len(a)==len(b):\n",
    "    print(\"True\")\n",
    "else:\n",
    "    print(\"they are not equal\")\n"
   ]
  },
  {
   "cell_type": "code",
   "execution_count": 31,
   "id": "026f48b8",
   "metadata": {},
   "outputs": [
    {
     "name": "stdout",
     "output_type": "stream",
     "text": [
      "eneter a string :bha\n",
      "bhabhabha\n"
     ]
    }
   ],
   "source": [
    "#15) Write a python program that takes a string input, we'll say that the front is the first three characters of the string. \n",
    "#If the string length is less than three characters, the front is whatever is there. Return a new string, which is three copies\n",
    "#of the front\n",
    "a=input(\"eneter a string :\")\n",
    "if len(a)<3:\n",
    "    print(a)\n",
    "elif len(a)>=3:\n",
    "    print(a[0:4]*3)\n"
   ]
  },
  {
   "cell_type": "code",
   "execution_count": 116,
   "id": "de08c99a",
   "metadata": {},
   "outputs": [
    {
     "name": "stdout",
     "output_type": "stream",
     "text": [
      "enter a string works\n",
      "it is a plural word  works\n"
     ]
    }
   ],
   "source": [
    "#16)Write a python program that takes in a word and determines whether or not it is plural. A plural word is one that ends in\"s\"\n",
    "a=input(\"enter a string \")\n",
    "if a.endswith(\"s\"):\n",
    "    print(\"it is a plural word \",a)\n",
    "else:\n",
    "    print(\"it is not plurala word\")"
   ]
  },
  {
   "cell_type": "code",
   "execution_count": 34,
   "id": "1e196815",
   "metadata": {},
   "outputs": [
    {
     "name": "stdout",
     "output_type": "stream",
     "text": [
      "Is bartender on break(True/False): False\n",
      " plese enetr the Age of the customer: 55\n",
      "Bartender  serve drinks\n"
     ]
    }
   ],
   "source": [
    "#17) A bartender is writing a simple program to determine whether he should serve drinks to someone. He only serves\n",
    "#drinks to people 18 and older and when he's not on break (True means break and False means not a break time). Given\n",
    "#the person's age, and whether break time is in session, create a python program which prints whether he should serve\n",
    "#drinks or not.\n",
    "x=input(\"Is bartender on break(True/False): \")\n",
    "\n",
    "if x==\"True\":\n",
    "    print(\"Bartender should not serve drinks\")\n",
    "elif x==\"False\":\n",
    "    y=int(input(\" plese enetr the Age of the customer: \"))\n",
    "    if y>=18:\n",
    "        print(\"Bartender  serve drinks\")\n",
    "    else:\n",
    "        print(\"Bartender  not serve drinks\")\n",
    "else:\n",
    "    print(\"Input has to be True or False\")"
   ]
  },
  {
   "cell_type": "code",
   "execution_count": 120,
   "id": "ae3d1e1f",
   "metadata": {},
   "outputs": [
    {
     "name": "stdout",
     "output_type": "stream",
     "text": [
      "enter the name :Letha\n",
      "Letha mother\n"
     ]
    }
   ],
   "source": [
    "#18) Manoj Kumar has family and friends. Help him remind them who is who. Given a string with a name, return the\n",
    "#relation of that person to Manoj Kumar.\n",
    "#Person Relation\n",
    "#Shiva father\n",
    "#Letha mother\n",
    "#Tarun brother\n",
    "#Kavitha sister\n",
    "#Strange Coder\n",
    "name=input(\"enter the name :\")\n",
    "if name==\"Shiva\":\n",
    "    print(name,\"father\")\n",
    "elif name==\"Letha\":\n",
    "    print(name,\"mother\")\n",
    "elif name==\"Tarun\":\n",
    "    print(name,\"brother\")\n",
    "elif name==\"Kavita\":\n",
    "    print(name,\"sister\")\n",
    "elif name==\"Stranger\":\n",
    "    print(name,\"coder\")\n",
    "\n"
   ]
  },
  {
   "cell_type": "code",
   "execution_count": 35,
   "id": "0cf04676",
   "metadata": {},
   "outputs": [
    {
     "name": "stdout",
     "output_type": "stream",
     "text": [
      "Type the string: abcdefghiklmnopqrstuvwxyz\n",
      "aeioubcdfghklmnpqrstvwxyz\n"
     ]
    }
   ],
   "source": [
    "#19) Write a python program that takes a string, breaks it up and returns it with vowels first, consonants second. For any\n",
    "#character that's not a vowel (like special characters or spaces), treat them like consonants\n",
    "x=input(\"Type the string: \")\n",
    "x1=\"\"\n",
    "x2=\"\"\n",
    "for y in range(len(x)):\n",
    "    if x[y]==\"a\" or x[y]==\"e\" or x[y]==\"i\" or x[y]==\"o\" or x[y]==\"u\":\n",
    "        x1=x1+x[y]\n",
    "    else:\n",
    "        x2=x2+x[y]\n",
    "print(x1+x2)  "
   ]
  },
  {
   "cell_type": "code",
   "execution_count": 128,
   "id": "dfb30685",
   "metadata": {},
   "outputs": [
    {
     "name": "stdout",
     "output_type": "stream",
     "text": [
      "eneter first value :5\n",
      "enter second value :8\n",
      "type any of this [+, -, *, /, %, **] **\n",
      "the power of two numbers is 390625\n"
     ]
    }
   ],
   "source": [
    "#20) Create a dynamic calculator which asks for numbers and operator and return the answers\n",
    "#Example\n",
    "#Input:\n",
    "#Type first number: 10\n",
    "#Type any of this (+, -, *, /, %, **): *\n",
    "#Assignment-2\n",
    "#Type second number: 19\n",
    "#Output:\n",
    "#Answer is 190\n",
    "a=int(input(\"eneter first value :\"))\n",
    "b=int(input(\"enter second value :\"))\n",
    "c=input(\"type any of this [+, -, *, /, %, **] \")\n",
    "if c==\"+\":\n",
    "    print(\"The addition of two numbers is :\",a+b)\n",
    "elif c==\"-\":\n",
    "    print(\"the substraction of two numbers is :\",a-b)\n",
    "elif c==\"*\":\n",
    "    print(\"the product of two numbers is :\",a*b)\n",
    "elif c==\"%\":\n",
    "    print(\"the  floor division of two numbers is\",a%b)\n",
    "elif c==\"/\":\n",
    "    print(\"the floor division of twi numbers is \",a/b)\n",
    "elif c==\"**\":\n",
    "    print(\"the power of two numbers is\",a**b)"
   ]
  },
  {
   "cell_type": "code",
   "execution_count": null,
   "id": "b071c116",
   "metadata": {},
   "outputs": [],
   "source": []
  }
 ],
 "metadata": {
  "kernelspec": {
   "display_name": "Python 3 (ipykernel)",
   "language": "python",
   "name": "python3"
  },
  "language_info": {
   "codemirror_mode": {
    "name": "ipython",
    "version": 3
   },
   "file_extension": ".py",
   "mimetype": "text/x-python",
   "name": "python",
   "nbconvert_exporter": "python",
   "pygments_lexer": "ipython3",
   "version": "3.9.13"
  }
 },
 "nbformat": 4,
 "nbformat_minor": 5
}
